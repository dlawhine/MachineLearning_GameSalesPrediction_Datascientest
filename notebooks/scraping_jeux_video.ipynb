{
 "cells": [
  {
   "cell_type": "code",
   "execution_count": 1,
   "metadata": {},
   "outputs": [],
   "source": [
    "from selenium import webdriver\n",
    "import pandas as pd\n",
    "import numpy as np\n",
    "from webdriver_manager.chrome import ChromeDriverManager\n",
    "from time import sleep"
   ]
  },
  {
   "cell_type": "code",
   "execution_count": 18,
   "metadata": {},
   "outputs": [],
   "source": [
    "# Méthode pour récupérer les pages à scraper\n",
    "def get_pages(token,num_deb,num_fin):\n",
    "    pages = []\n",
    "    for i in range(num_deb,num_fin+1):\n",
    "        j = token + str(i)\n",
    "        pages.append(j)\n",
    "    return pages"
   ]
  },
  {
   "cell_type": "code",
   "execution_count": 5,
   "metadata": {},
   "outputs": [],
   "source": [
    "# Méthode pour récupérer les infos sur chaque page\n",
    "def get_info(pages = []):\n",
    "\n",
    "    jeux_video_com = []\n",
    "    driver.get('https://www.jeuxvideo.com/tous-les-jeux/?p=')\n",
    "    driver.find_element_by_xpath('//*[@id=\"cmp-main\"]/button[2]').click()\n",
    "\n",
    "    for la_page in pages:\n",
    "\n",
    "        driver.get(la_page)\n",
    "\n",
    "        driver.implicitly_wait(20) \n",
    "\n",
    "\n",
    "        titre_j = driver.find_elements_by_class_name('gameTitleLink__196nPy')\n",
    "\n",
    "        note_j = driver.find_elements_by_class_name('userRating__1y96su')\n",
    "\n",
    "        date_s_j = driver.find_elements_by_class_name('releaseDate__1RvUmc')\n",
    "\n",
    "        platform_j = driver.find_elements_by_class_name('gameTitleAndPlatforms__2vxJ4O')\n",
    "        for i in range(len(note_j)):\n",
    "            jeux_info = {}\n",
    "            jeux_info['Titre']= titre_j[i].text\n",
    "            jeux_info['Note'] = note_j[i].text\n",
    "            jeux_info['Date'] = date_s_j[i].text\n",
    "            jeux_info['Plateforme'] = platform_j[i].text\n",
    "            jeux_video_com.append(jeux_info )\n",
    "    return jeux_video_com\n"
   ]
  },
  {
   "cell_type": "code",
   "execution_count": 19,
   "metadata": {},
   "outputs": [
    {
     "name": "stderr",
     "output_type": "stream",
     "text": [
      "\n",
      "\n",
      "====== WebDriver manager ======\n",
      "Current google-chrome version is 99.0.4844\n",
      "Get LATEST chromedriver version for 99.0.4844 google-chrome\n",
      "Driver [/home/bdiop/.wdm/drivers/chromedriver/linux64/99.0.4844.51/chromedriver] found in cache\n"
     ]
    }
   ],
   "source": [
    "\n",
    "driver = webdriver.Chrome(ChromeDriverManager().install())\n",
    "\n",
    "token = 'https://www.jeuxvideo.com/tous-les-jeux/?p='\n",
    "pages = get_pages(token,1,100)\n",
    "liste_info = get_info(pages)"
   ]
  },
  {
   "cell_type": "code",
   "execution_count": 24,
   "metadata": {},
   "outputs": [
    {
     "data": {
      "text/html": [
       "<div>\n",
       "<style scoped>\n",
       "    .dataframe tbody tr th:only-of-type {\n",
       "        vertical-align: middle;\n",
       "    }\n",
       "\n",
       "    .dataframe tbody tr th {\n",
       "        vertical-align: top;\n",
       "    }\n",
       "\n",
       "    .dataframe thead th {\n",
       "        text-align: right;\n",
       "    }\n",
       "</style>\n",
       "<table border=\"1\" class=\"dataframe\">\n",
       "  <thead>\n",
       "    <tr style=\"text-align: right;\">\n",
       "      <th></th>\n",
       "      <th>Titre</th>\n",
       "      <th>Note</th>\n",
       "      <th>Date</th>\n",
       "      <th>Plateforme</th>\n",
       "    </tr>\n",
       "  </thead>\n",
       "  <tbody>\n",
       "    <tr>\n",
       "      <th>0</th>\n",
       "      <td>Elden Ring</td>\n",
       "      <td>16.4/20</td>\n",
       "      <td>Sortie: 25 février 2022</td>\n",
       "      <td>Elden Ring\\nPC PS5 Xbox Series</td>\n",
       "    </tr>\n",
       "    <tr>\n",
       "      <th>1</th>\n",
       "      <td>Horizon : Forbidden West</td>\n",
       "      <td>15.8/20</td>\n",
       "      <td>Sortie: 18 février 2022</td>\n",
       "      <td>Horizon : Forbidden West\\nPS5 PS4</td>\n",
       "    </tr>\n",
       "    <tr>\n",
       "      <th>2</th>\n",
       "      <td>Lost Ark\\nsur PC</td>\n",
       "      <td>12.6/20</td>\n",
       "      <td>Sortie: 11 février 2022</td>\n",
       "      <td>Lost Ark\\nsur PC</td>\n",
       "    </tr>\n",
       "    <tr>\n",
       "      <th>3</th>\n",
       "      <td>Gran Turismo 7</td>\n",
       "      <td>16.8/20</td>\n",
       "      <td>Sortie: 4 mars 2022</td>\n",
       "      <td>Gran Turismo 7\\nPS5 PS4</td>\n",
       "    </tr>\n",
       "    <tr>\n",
       "      <th>4</th>\n",
       "      <td>Légendes Pokémon : Arceus\\nsur Switch</td>\n",
       "      <td>12.7/20</td>\n",
       "      <td>Sortie: 28 janvier 2022</td>\n",
       "      <td>Légendes Pokémon : Arceus\\nsur Switch</td>\n",
       "    </tr>\n",
       "    <tr>\n",
       "      <th>5</th>\n",
       "      <td>Dying Light 2 : Stay Human</td>\n",
       "      <td>14/20</td>\n",
       "      <td>Sortie: 4 février 2022</td>\n",
       "      <td>Dying Light 2 : Stay Human\\nPC PS5 Xbox Series</td>\n",
       "    </tr>\n",
       "    <tr>\n",
       "      <th>6</th>\n",
       "      <td>Pokémon Diamant Étincelant / Perle Scintillant...</td>\n",
       "      <td>10.7/20</td>\n",
       "      <td>Sortie: 19 novembre 2021</td>\n",
       "      <td>Pokémon Diamant Étincelant / Perle Scintillant...</td>\n",
       "    </tr>\n",
       "    <tr>\n",
       "      <th>7</th>\n",
       "      <td>Animal Crossing : New Horizons\\nsur Switch</td>\n",
       "      <td>13.9/20</td>\n",
       "      <td>Sortie: 20 mars 2020</td>\n",
       "      <td>Animal Crossing : New Horizons\\nsur Switch</td>\n",
       "    </tr>\n",
       "    <tr>\n",
       "      <th>8</th>\n",
       "      <td>Call of Duty : Vanguard</td>\n",
       "      <td>8.7/20</td>\n",
       "      <td>Sortie: 5 novembre 2021</td>\n",
       "      <td>Call of Duty : Vanguard\\nPC PS5 Xbox Series</td>\n",
       "    </tr>\n",
       "    <tr>\n",
       "      <th>9</th>\n",
       "      <td>Martha is Dead</td>\n",
       "      <td>- -/20</td>\n",
       "      <td>Sortie: 24 février 2022</td>\n",
       "      <td>Martha is Dead\\nPC PS5 Xbox Series</td>\n",
       "    </tr>\n",
       "  </tbody>\n",
       "</table>\n",
       "</div>"
      ],
      "text/plain": [
       "                                               Titre     Note  \\\n",
       "0                                         Elden Ring  16.4/20   \n",
       "1                           Horizon : Forbidden West  15.8/20   \n",
       "2                                   Lost Ark\\nsur PC  12.6/20   \n",
       "3                                     Gran Turismo 7  16.8/20   \n",
       "4              Légendes Pokémon : Arceus\\nsur Switch  12.7/20   \n",
       "5                         Dying Light 2 : Stay Human    14/20   \n",
       "6  Pokémon Diamant Étincelant / Perle Scintillant...  10.7/20   \n",
       "7         Animal Crossing : New Horizons\\nsur Switch  13.9/20   \n",
       "8                            Call of Duty : Vanguard   8.7/20   \n",
       "9                                     Martha is Dead   - -/20   \n",
       "\n",
       "                       Date                                         Plateforme  \n",
       "0   Sortie: 25 février 2022                     Elden Ring\\nPC PS5 Xbox Series  \n",
       "1   Sortie: 18 février 2022                  Horizon : Forbidden West\\nPS5 PS4  \n",
       "2   Sortie: 11 février 2022                                   Lost Ark\\nsur PC  \n",
       "3       Sortie: 4 mars 2022                            Gran Turismo 7\\nPS5 PS4  \n",
       "4   Sortie: 28 janvier 2022              Légendes Pokémon : Arceus\\nsur Switch  \n",
       "5    Sortie: 4 février 2022     Dying Light 2 : Stay Human\\nPC PS5 Xbox Series  \n",
       "6  Sortie: 19 novembre 2021  Pokémon Diamant Étincelant / Perle Scintillant...  \n",
       "7      Sortie: 20 mars 2020         Animal Crossing : New Horizons\\nsur Switch  \n",
       "8   Sortie: 5 novembre 2021        Call of Duty : Vanguard\\nPC PS5 Xbox Series  \n",
       "9   Sortie: 24 février 2022                 Martha is Dead\\nPC PS5 Xbox Series  "
      ]
     },
     "execution_count": 24,
     "metadata": {},
     "output_type": "execute_result"
    }
   ],
   "source": [
    "jeux = pd.read_csv('jeuxvideo_csv',index_col = 0)\n",
    "#jeux.\n",
    "jeux.head(10)"
   ]
  },
  {
   "cell_type": "code",
   "execution_count": 26,
   "metadata": {},
   "outputs": [],
   "source": [
    "# Nettoyaye de la colonne Date pour avoir que l'année\n",
    "\n",
    "jeux[\"Date\"]=jeux[\"Date\"].astype(str).apply(lambda x : x[-4:])"
   ]
  },
  {
   "cell_type": "code",
   "execution_count": 27,
   "metadata": {},
   "outputs": [
    {
     "data": {
      "text/html": [
       "<div>\n",
       "<style scoped>\n",
       "    .dataframe tbody tr th:only-of-type {\n",
       "        vertical-align: middle;\n",
       "    }\n",
       "\n",
       "    .dataframe tbody tr th {\n",
       "        vertical-align: top;\n",
       "    }\n",
       "\n",
       "    .dataframe thead th {\n",
       "        text-align: right;\n",
       "    }\n",
       "</style>\n",
       "<table border=\"1\" class=\"dataframe\">\n",
       "  <thead>\n",
       "    <tr style=\"text-align: right;\">\n",
       "      <th></th>\n",
       "      <th>Titre</th>\n",
       "      <th>Note</th>\n",
       "      <th>Date</th>\n",
       "      <th>Plateforme</th>\n",
       "    </tr>\n",
       "  </thead>\n",
       "  <tbody>\n",
       "    <tr>\n",
       "      <th>0</th>\n",
       "      <td>Elden Ring</td>\n",
       "      <td>16.4/20</td>\n",
       "      <td>2022</td>\n",
       "      <td>Elden Ring\\nPC PS5 Xbox Series</td>\n",
       "    </tr>\n",
       "    <tr>\n",
       "      <th>1</th>\n",
       "      <td>Horizon : Forbidden West</td>\n",
       "      <td>15.8/20</td>\n",
       "      <td>2022</td>\n",
       "      <td>Horizon : Forbidden West\\nPS5 PS4</td>\n",
       "    </tr>\n",
       "    <tr>\n",
       "      <th>2</th>\n",
       "      <td>Lost Ark\\nsur PC</td>\n",
       "      <td>12.6/20</td>\n",
       "      <td>2022</td>\n",
       "      <td>Lost Ark\\nsur PC</td>\n",
       "    </tr>\n",
       "    <tr>\n",
       "      <th>3</th>\n",
       "      <td>Gran Turismo 7</td>\n",
       "      <td>16.8/20</td>\n",
       "      <td>2022</td>\n",
       "      <td>Gran Turismo 7\\nPS5 PS4</td>\n",
       "    </tr>\n",
       "    <tr>\n",
       "      <th>4</th>\n",
       "      <td>Légendes Pokémon : Arceus\\nsur Switch</td>\n",
       "      <td>12.7/20</td>\n",
       "      <td>2022</td>\n",
       "      <td>Légendes Pokémon : Arceus\\nsur Switch</td>\n",
       "    </tr>\n",
       "  </tbody>\n",
       "</table>\n",
       "</div>"
      ],
      "text/plain": [
       "                                   Titre     Note  Date  \\\n",
       "0                             Elden Ring  16.4/20  2022   \n",
       "1               Horizon : Forbidden West  15.8/20  2022   \n",
       "2                       Lost Ark\\nsur PC  12.6/20  2022   \n",
       "3                         Gran Turismo 7  16.8/20  2022   \n",
       "4  Légendes Pokémon : Arceus\\nsur Switch  12.7/20  2022   \n",
       "\n",
       "                              Plateforme  \n",
       "0         Elden Ring\\nPC PS5 Xbox Series  \n",
       "1      Horizon : Forbidden West\\nPS5 PS4  \n",
       "2                       Lost Ark\\nsur PC  \n",
       "3                Gran Turismo 7\\nPS5 PS4  \n",
       "4  Légendes Pokémon : Arceus\\nsur Switch  "
      ]
     },
     "execution_count": 27,
     "metadata": {},
     "output_type": "execute_result"
    }
   ],
   "source": [
    "jeux.head()"
   ]
  },
  {
   "cell_type": "code",
   "execution_count": 28,
   "metadata": {},
   "outputs": [],
   "source": [
    "# Nettoyaye de la colonne Note pour enlever /20\n",
    "jeux[\"Note\"]=jeux[\"Note\"].astype(str).apply(lambda x : x.split(\"/20\")[0])"
   ]
  },
  {
   "cell_type": "code",
   "execution_count": 29,
   "metadata": {},
   "outputs": [
    {
     "data": {
      "text/html": [
       "<div>\n",
       "<style scoped>\n",
       "    .dataframe tbody tr th:only-of-type {\n",
       "        vertical-align: middle;\n",
       "    }\n",
       "\n",
       "    .dataframe tbody tr th {\n",
       "        vertical-align: top;\n",
       "    }\n",
       "\n",
       "    .dataframe thead th {\n",
       "        text-align: right;\n",
       "    }\n",
       "</style>\n",
       "<table border=\"1\" class=\"dataframe\">\n",
       "  <thead>\n",
       "    <tr style=\"text-align: right;\">\n",
       "      <th></th>\n",
       "      <th>Titre</th>\n",
       "      <th>Note</th>\n",
       "      <th>Date</th>\n",
       "      <th>Plateforme</th>\n",
       "    </tr>\n",
       "  </thead>\n",
       "  <tbody>\n",
       "    <tr>\n",
       "      <th>0</th>\n",
       "      <td>Elden Ring</td>\n",
       "      <td>16.4</td>\n",
       "      <td>2022</td>\n",
       "      <td>Elden Ring\\nPC PS5 Xbox Series</td>\n",
       "    </tr>\n",
       "    <tr>\n",
       "      <th>1</th>\n",
       "      <td>Horizon : Forbidden West</td>\n",
       "      <td>15.8</td>\n",
       "      <td>2022</td>\n",
       "      <td>Horizon : Forbidden West\\nPS5 PS4</td>\n",
       "    </tr>\n",
       "    <tr>\n",
       "      <th>2</th>\n",
       "      <td>Lost Ark\\nsur PC</td>\n",
       "      <td>12.6</td>\n",
       "      <td>2022</td>\n",
       "      <td>Lost Ark\\nsur PC</td>\n",
       "    </tr>\n",
       "    <tr>\n",
       "      <th>3</th>\n",
       "      <td>Gran Turismo 7</td>\n",
       "      <td>16.8</td>\n",
       "      <td>2022</td>\n",
       "      <td>Gran Turismo 7\\nPS5 PS4</td>\n",
       "    </tr>\n",
       "    <tr>\n",
       "      <th>4</th>\n",
       "      <td>Légendes Pokémon : Arceus\\nsur Switch</td>\n",
       "      <td>12.7</td>\n",
       "      <td>2022</td>\n",
       "      <td>Légendes Pokémon : Arceus\\nsur Switch</td>\n",
       "    </tr>\n",
       "  </tbody>\n",
       "</table>\n",
       "</div>"
      ],
      "text/plain": [
       "                                   Titre  Note  Date  \\\n",
       "0                             Elden Ring  16.4  2022   \n",
       "1               Horizon : Forbidden West  15.8  2022   \n",
       "2                       Lost Ark\\nsur PC  12.6  2022   \n",
       "3                         Gran Turismo 7  16.8  2022   \n",
       "4  Légendes Pokémon : Arceus\\nsur Switch  12.7  2022   \n",
       "\n",
       "                              Plateforme  \n",
       "0         Elden Ring\\nPC PS5 Xbox Series  \n",
       "1      Horizon : Forbidden West\\nPS5 PS4  \n",
       "2                       Lost Ark\\nsur PC  \n",
       "3                Gran Turismo 7\\nPS5 PS4  \n",
       "4  Légendes Pokémon : Arceus\\nsur Switch  "
      ]
     },
     "execution_count": 29,
     "metadata": {},
     "output_type": "execute_result"
    }
   ],
   "source": [
    "jeux.head()"
   ]
  },
  {
   "cell_type": "code",
   "execution_count": 31,
   "metadata": {},
   "outputs": [],
   "source": [
    "# Remplacer -- dans note par NAA\n",
    "jeux[\"Note\"].replace(to_replace= [\"- -\"],\n",
    "                                 value =[np.nan],inplace = True)"
   ]
  },
  {
   "cell_type": "code",
   "execution_count": 32,
   "metadata": {},
   "outputs": [],
   "source": [
    "# Enlever le nom des plateformes dans titre, aprés le \\n\n",
    "jeux[\"Titre\"]=jeux[\"Titre\"].astype(str).apply(lambda x : x.split(\"\\nsur\")[0] if \"\\nsur\" in x else x)"
   ]
  },
  {
   "cell_type": "code",
   "execution_count": 33,
   "metadata": {},
   "outputs": [
    {
     "data": {
      "text/html": [
       "<div>\n",
       "<style scoped>\n",
       "    .dataframe tbody tr th:only-of-type {\n",
       "        vertical-align: middle;\n",
       "    }\n",
       "\n",
       "    .dataframe tbody tr th {\n",
       "        vertical-align: top;\n",
       "    }\n",
       "\n",
       "    .dataframe thead th {\n",
       "        text-align: right;\n",
       "    }\n",
       "</style>\n",
       "<table border=\"1\" class=\"dataframe\">\n",
       "  <thead>\n",
       "    <tr style=\"text-align: right;\">\n",
       "      <th></th>\n",
       "      <th>Titre</th>\n",
       "      <th>Note</th>\n",
       "      <th>Date</th>\n",
       "      <th>Plateforme</th>\n",
       "    </tr>\n",
       "  </thead>\n",
       "  <tbody>\n",
       "    <tr>\n",
       "      <th>0</th>\n",
       "      <td>Elden Ring</td>\n",
       "      <td>16.4</td>\n",
       "      <td>2022</td>\n",
       "      <td>Elden Ring\\nPC PS5 Xbox Series</td>\n",
       "    </tr>\n",
       "    <tr>\n",
       "      <th>1</th>\n",
       "      <td>Horizon : Forbidden West</td>\n",
       "      <td>15.8</td>\n",
       "      <td>2022</td>\n",
       "      <td>Horizon : Forbidden West\\nPS5 PS4</td>\n",
       "    </tr>\n",
       "    <tr>\n",
       "      <th>2</th>\n",
       "      <td>Lost Ark</td>\n",
       "      <td>12.6</td>\n",
       "      <td>2022</td>\n",
       "      <td>Lost Ark\\nsur PC</td>\n",
       "    </tr>\n",
       "    <tr>\n",
       "      <th>3</th>\n",
       "      <td>Gran Turismo 7</td>\n",
       "      <td>16.8</td>\n",
       "      <td>2022</td>\n",
       "      <td>Gran Turismo 7\\nPS5 PS4</td>\n",
       "    </tr>\n",
       "    <tr>\n",
       "      <th>4</th>\n",
       "      <td>Légendes Pokémon : Arceus</td>\n",
       "      <td>12.7</td>\n",
       "      <td>2022</td>\n",
       "      <td>Légendes Pokémon : Arceus\\nsur Switch</td>\n",
       "    </tr>\n",
       "  </tbody>\n",
       "</table>\n",
       "</div>"
      ],
      "text/plain": [
       "                       Titre  Note  Date  \\\n",
       "0                 Elden Ring  16.4  2022   \n",
       "1   Horizon : Forbidden West  15.8  2022   \n",
       "2                   Lost Ark  12.6  2022   \n",
       "3             Gran Turismo 7  16.8  2022   \n",
       "4  Légendes Pokémon : Arceus  12.7  2022   \n",
       "\n",
       "                              Plateforme  \n",
       "0         Elden Ring\\nPC PS5 Xbox Series  \n",
       "1      Horizon : Forbidden West\\nPS5 PS4  \n",
       "2                       Lost Ark\\nsur PC  \n",
       "3                Gran Turismo 7\\nPS5 PS4  \n",
       "4  Légendes Pokémon : Arceus\\nsur Switch  "
      ]
     },
     "execution_count": 33,
     "metadata": {},
     "output_type": "execute_result"
    }
   ],
   "source": [
    "jeux.head()"
   ]
  },
  {
   "cell_type": "code",
   "execution_count": 34,
   "metadata": {},
   "outputs": [],
   "source": [
    "#enlever le titre et \\n dans la colonne Plateforme\n",
    "\n",
    "jeux[\"Plateforme\"]=jeux[\"Plateforme\"].astype(str).apply(lambda x : x.split(\"\\n\")[1] if \"\\n\" in x else x)\n",
    "\n",
    "jeux[\"Plateforme\"]=jeux[\"Plateforme\"].astype(str).apply(lambda x : x.split(\"sur\")[1] if \"sur\" in x else x)\n"
   ]
  },
  {
   "cell_type": "code",
   "execution_count": 35,
   "metadata": {},
   "outputs": [
    {
     "data": {
      "text/html": [
       "<div>\n",
       "<style scoped>\n",
       "    .dataframe tbody tr th:only-of-type {\n",
       "        vertical-align: middle;\n",
       "    }\n",
       "\n",
       "    .dataframe tbody tr th {\n",
       "        vertical-align: top;\n",
       "    }\n",
       "\n",
       "    .dataframe thead th {\n",
       "        text-align: right;\n",
       "    }\n",
       "</style>\n",
       "<table border=\"1\" class=\"dataframe\">\n",
       "  <thead>\n",
       "    <tr style=\"text-align: right;\">\n",
       "      <th></th>\n",
       "      <th>Titre</th>\n",
       "      <th>Note</th>\n",
       "      <th>Date</th>\n",
       "      <th>Plateforme</th>\n",
       "    </tr>\n",
       "  </thead>\n",
       "  <tbody>\n",
       "    <tr>\n",
       "      <th>0</th>\n",
       "      <td>Elden Ring</td>\n",
       "      <td>16.4</td>\n",
       "      <td>2022</td>\n",
       "      <td>PC PS5 Xbox Series</td>\n",
       "    </tr>\n",
       "    <tr>\n",
       "      <th>1</th>\n",
       "      <td>Horizon : Forbidden West</td>\n",
       "      <td>15.8</td>\n",
       "      <td>2022</td>\n",
       "      <td>PS5 PS4</td>\n",
       "    </tr>\n",
       "    <tr>\n",
       "      <th>2</th>\n",
       "      <td>Lost Ark</td>\n",
       "      <td>12.6</td>\n",
       "      <td>2022</td>\n",
       "      <td>PC</td>\n",
       "    </tr>\n",
       "    <tr>\n",
       "      <th>3</th>\n",
       "      <td>Gran Turismo 7</td>\n",
       "      <td>16.8</td>\n",
       "      <td>2022</td>\n",
       "      <td>PS5 PS4</td>\n",
       "    </tr>\n",
       "    <tr>\n",
       "      <th>4</th>\n",
       "      <td>Légendes Pokémon : Arceus</td>\n",
       "      <td>12.7</td>\n",
       "      <td>2022</td>\n",
       "      <td>Switch</td>\n",
       "    </tr>\n",
       "  </tbody>\n",
       "</table>\n",
       "</div>"
      ],
      "text/plain": [
       "                       Titre  Note  Date          Plateforme\n",
       "0                 Elden Ring  16.4  2022  PC PS5 Xbox Series\n",
       "1   Horizon : Forbidden West  15.8  2022             PS5 PS4\n",
       "2                   Lost Ark  12.6  2022                  PC\n",
       "3             Gran Turismo 7  16.8  2022             PS5 PS4\n",
       "4  Légendes Pokémon : Arceus  12.7  2022              Switch"
      ]
     },
     "execution_count": 35,
     "metadata": {},
     "output_type": "execute_result"
    }
   ],
   "source": [
    "jeux.head()"
   ]
  },
  {
   "cell_type": "code",
   "execution_count": 36,
   "metadata": {},
   "outputs": [],
   "source": [
    "df =jeux.to_csv('jeuxvideocom.csv')"
   ]
  },
  {
   "cell_type": "code",
   "execution_count": 38,
   "metadata": {},
   "outputs": [
    {
     "data": {
      "text/plain": [
       "(8515, 5)"
      ]
     },
     "execution_count": 38,
     "metadata": {},
     "output_type": "execute_result"
    }
   ],
   "source": [
    "df = pd.read_csv('jeuxvideocom.csv')\n",
    "df.shape"
   ]
  },
  {
   "cell_type": "code",
   "execution_count": 40,
   "metadata": {},
   "outputs": [
    {
     "data": {
      "text/plain": [
       "Unnamed: 0      0\n",
       "Titre           0\n",
       "Note          384\n",
       "Date            1\n",
       "Plateforme      1\n",
       "dtype: int64"
      ]
     },
     "execution_count": 40,
     "metadata": {},
     "output_type": "execute_result"
    }
   ],
   "source": [
    "df.isna().sum()"
   ]
  }
 ],
 "metadata": {
  "kernelspec": {
   "display_name": "Python 3 (ipykernel)",
   "language": "python",
   "name": "python3"
  },
  "language_info": {
   "codemirror_mode": {
    "name": "ipython",
    "version": 3
   },
   "file_extension": ".py",
   "mimetype": "text/x-python",
   "name": "python",
   "nbconvert_exporter": "python",
   "pygments_lexer": "ipython3",
   "version": "3.7.11"
  }
 },
 "nbformat": 4,
 "nbformat_minor": 4
}
